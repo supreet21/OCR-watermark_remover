{
  "nbformat": 4,
  "nbformat_minor": 0,
  "metadata": {
    "colab": {
      "name": "watermark-remover.ipynb",
      "provenance": [],
      "private_outputs": true,
      "collapsed_sections": [],
      "toc_visible": true,
      "authorship_tag": "ABX9TyNNYjEGhToKhMc5nwx7r/Pc",
      "include_colab_link": true
    },
    "kernelspec": {
      "name": "python3",
      "display_name": "Python 3"
    },
    "accelerator": "GPU"
  },
  "cells": [
    {
      "cell_type": "markdown",
      "metadata": {
        "id": "view-in-github",
        "colab_type": "text"
      },
      "source": [
        "<a href=\"https://colab.research.google.com/github/supreet21/OCR-watermark_remover/blob/master/watermark_remover.ipynb\" target=\"_parent\"><img src=\"https://colab.research.google.com/assets/colab-badge.svg\" alt=\"Open In Colab\"/></a>"
      ]
    },
    {
      "cell_type": "code",
      "metadata": {
        "id": "yAlHFVnXlOu_",
        "colab_type": "code",
        "colab": {}
      },
      "source": [
        "!git clone https://github.com/LJSthu/Python-Remove-Watermark.git"
      ],
      "execution_count": 0,
      "outputs": []
    },
    {
      "cell_type": "code",
      "metadata": {
        "id": "5ap6vcbmlT2s",
        "colab_type": "code",
        "colab": {}
      },
      "source": [
        "!pip install pdf2image"
      ],
      "execution_count": 0,
      "outputs": []
    },
    {
      "cell_type": "code",
      "metadata": {
        "id": "DVEW03pDlY89",
        "colab_type": "code",
        "colab": {}
      },
      "source": [
        "!pip install poppler"
      ],
      "execution_count": 0,
      "outputs": []
    },
    {
      "cell_type": "code",
      "metadata": {
        "id": "itT3BPu2lcF0",
        "colab_type": "code",
        "colab": {}
      },
      "source": [
        "!apt-get install poppler-utils "
      ],
      "execution_count": 0,
      "outputs": []
    },
    {
      "cell_type": "code",
      "metadata": {
        "id": "EKIf_120lurc",
        "colab_type": "code",
        "colab": {}
      },
      "source": [
        "!wget https://www.w3.org/WAI/ER/tests/xhtml/testfiles/resources/pdf/dummy.pdf"
      ],
      "execution_count": 0,
      "outputs": []
    },
    {
      "cell_type": "code",
      "metadata": {
        "id": "iQr_X5b1mSIG",
        "colab_type": "code",
        "colab": {}
      },
      "source": [
        "ls"
      ],
      "execution_count": 0,
      "outputs": []
    },
    {
      "cell_type": "code",
      "metadata": {
        "id": "8xJnDwskmTFG",
        "colab_type": "code",
        "colab": {}
      },
      "source": [
        "from pdf2image import convert_from_path, convert_from_bytes\n",
        "from IPython.display import display, Image\n",
        "\n",
        "images = convert_from_bytes(open('dummy.pdf', 'rb').read(), size=800)\n",
        "display(images[0])"
      ],
      "execution_count": 0,
      "outputs": []
    },
    {
      "cell_type": "code",
      "metadata": {
        "id": "9eeBEnEwmhkC",
        "colab_type": "code",
        "colab": {}
      },
      "source": [
        "!pwd"
      ],
      "execution_count": 0,
      "outputs": []
    },
    {
      "cell_type": "code",
      "metadata": {
        "id": "3I3THUIEoocv",
        "colab_type": "code",
        "colab": {}
      },
      "source": [
        "cd Python-Remove-Watermark/"
      ],
      "execution_count": 0,
      "outputs": []
    },
    {
      "cell_type": "code",
      "metadata": {
        "id": "LmnhgpPoJxGH",
        "colab_type": "code",
        "colab": {}
      },
      "source": [
        "cd .."
      ],
      "execution_count": 0,
      "outputs": []
    },
    {
      "cell_type": "code",
      "metadata": {
        "id": "ustvM72QIvHx",
        "colab_type": "code",
        "colab": {}
      },
      "source": [
        "\n",
        "!unzip OCR_Images.zip\n",
        "!cd Python-Remove-Watermark/"
      ],
      "execution_count": 0,
      "outputs": []
    },
    {
      "cell_type": "code",
      "metadata": {
        "id": "f7Mv3DLJKaOL",
        "colab_type": "code",
        "colab": {}
      },
      "source": [
        "cd Python-Remove-Watermark/"
      ],
      "execution_count": 0,
      "outputs": []
    },
    {
      "cell_type": "code",
      "metadata": {
        "id": "rY7_I4eWXm37",
        "colab_type": "code",
        "colab": {}
      },
      "source": [
        "!pip install convertapi"
      ],
      "execution_count": 0,
      "outputs": []
    },
    {
      "cell_type": "code",
      "metadata": {
        "id": "s-Z7ha8eXbJ0",
        "colab_type": "code",
        "colab": {}
      },
      "source": [
        "!python3 tiff_to_pdf.py"
      ],
      "execution_count": 0,
      "outputs": []
    },
    {
      "cell_type": "code",
      "metadata": {
        "id": "LdzAPof7osjI",
        "colab_type": "code",
        "colab": {}
      },
      "source": [
        "\n",
        "!python3 watermark.py"
      ],
      "execution_count": 0,
      "outputs": []
    },
    {
      "cell_type": "code",
      "metadata": {
        "id": "ycCh5MxxI86o",
        "colab_type": "code",
        "colab": {}
      },
      "source": [
        "!pip install opencv-python\n",
        "!sudo apt-get update\n",
        "!sudo apt-get install tesseract-ocr\n",
        "!sudo apt-get install libtesseract-dev\n",
        "!pip install pytesseract\n"
      ],
      "execution_count": 0,
      "outputs": []
    },
    {
      "cell_type": "code",
      "metadata": {
        "id": "5sYoaNV0K1GX",
        "colab_type": "code",
        "colab": {}
      },
      "source": [
        "!wget https://dl.winehq.org/wine-builds/Release.key && sudo apt-key add Release.key\n",
        "!sudo apt-add-repository https://dl.winehq.org/wine-builds/ubuntu/\n",
        "!sudo apt-add-repository 'deb https://dl.winehq.org/wine-builds/ubuntu/ xenial main'\n",
        "!sudo dpkg --add-architecture i386\n",
        "!sudo apt-get update && sudo apt-get install --install-recommends wine-devel\n",
        "\n",
        "\n",
        "\n",
        "\n"
      ],
      "execution_count": 0,
      "outputs": []
    },
    {
      "cell_type": "code",
      "metadata": {
        "id": "3xTI6iD1Limr",
        "colab_type": "code",
        "colab": {}
      },
      "source": [
        "\n",
        "!wget tesseract-ocr-w64-setup-v5.0.0-alpha.20191030.exe"
      ],
      "execution_count": 0,
      "outputs": []
    },
    {
      "cell_type": "code",
      "metadata": {
        "id": "G0lhc-eVMd_i",
        "colab_type": "code",
        "colab": {}
      },
      "source": [
        "!python3 watermark.py"
      ],
      "execution_count": 0,
      "outputs": []
    },
    {
      "cell_type": "code",
      "metadata": {
        "id": "sQ_wrHQRX4d5",
        "colab_type": "code",
        "colab": {}
      },
      "source": [
        "!python3 watermark1.py"
      ],
      "execution_count": 0,
      "outputs": []
    },
    {
      "cell_type": "code",
      "metadata": {
        "id": "Af6QDiboXSio",
        "colab_type": "code",
        "colab": {}
      },
      "source": [
        "cd .."
      ],
      "execution_count": 0,
      "outputs": []
    },
    {
      "cell_type": "code",
      "metadata": {
        "id": "rkrM8YcOXNBN",
        "colab_type": "code",
        "colab": {}
      },
      "source": [
        "ls"
      ],
      "execution_count": 0,
      "outputs": []
    },
    {
      "cell_type": "code",
      "metadata": {
        "id": "tU2DbBzIbnaS",
        "colab_type": "code",
        "colab": {}
      },
      "source": [
        "!sh wine tesseract-ocr-w64-setup-v5.0.0-alpha.20191030.exe"
      ],
      "execution_count": 0,
      "outputs": []
    },
    {
      "cell_type": "code",
      "metadata": {
        "id": "-SNzDSR2XVf8",
        "colab_type": "code",
        "colab": {}
      },
      "source": [
        "cd Python-Remove-Watermark/"
      ],
      "execution_count": 0,
      "outputs": []
    },
    {
      "cell_type": "code",
      "metadata": {
        "id": "iBZbZ5gWJGQl",
        "colab_type": "code",
        "colab": {}
      },
      "source": [
        "import cv2\n",
        "import pytesseract\n",
        "img = cv2.imread('img1.jpg')\n",
        "text = pytesseract.image_to_string(img)\n",
        "print(text)\n",
        "with open('text_.txt','a') as f:\n",
        "  f.write(text)\n",
        "f.close()\n",
        "\n"
      ],
      "execution_count": 0,
      "outputs": []
    },
    {
      "cell_type": "code",
      "metadata": {
        "id": "-Go1vbK4c3m4",
        "colab_type": "code",
        "colab": {}
      },
      "source": [
        "import cv2\n",
        "import pytesseract\n",
        "import os\n",
        "entries = os.listdir('/')\n",
        "for entry in entries:\n",
        "  img = cv2.imread(entry)\n",
        "  text = pytesseract.image_to_string(img)\n",
        "  print(text)\n",
        "  with open('text_'+entry+'.txt','a') as f:\n",
        "    f.write(text)\n",
        "  f.close()\n"
      ],
      "execution_count": 0,
      "outputs": []
    },
    {
      "cell_type": "code",
      "metadata": {
        "id": "LVefQeTsQ89S",
        "colab_type": "code",
        "colab": {}
      },
      "source": [
        "!pip install tifffile"
      ],
      "execution_count": 0,
      "outputs": []
    },
    {
      "cell_type": "code",
      "metadata": {
        "id": "NDs8zzpIoz2p",
        "colab_type": "code",
        "colab": {}
      },
      "source": [
        "img = np.array(img)\n",
        "for im in img:\n",
        "  "
      ],
      "execution_count": 0,
      "outputs": []
    },
    {
      "cell_type": "code",
      "metadata": {
        "id": "SXTnaxLy0XSh",
        "colab_type": "code",
        "colab": {}
      },
      "source": [
        "import numpy as np\n",
        "images = convert_from_path('./WatermarkSample.pdf')\n",
        "for img in images:\n",
        "    #index += 1\n",
        "    img = np.array(img)\n",
        "    print(img)"
      ],
      "execution_count": 0,
      "outputs": []
    },
    {
      "cell_type": "code",
      "metadata": {
        "id": "ur7-r_uM0c81",
        "colab_type": "code",
        "colab": {}
      },
      "source": [
        ""
      ],
      "execution_count": 0,
      "outputs": []
    }
  ]
}